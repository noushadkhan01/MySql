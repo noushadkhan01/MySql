{
  "nbformat": 4,
  "nbformat_minor": 0,
  "metadata": {
    "colab": {
      "name": "full A - Z.ipynb",
      "version": "0.3.2",
      "provenance": [],
      "include_colab_link": true
    },
    "kernelspec": {
      "display_name": "Python 3",
      "language": "python",
      "name": "python3"
    }
  },
  "cells": [
    {
      "cell_type": "markdown",
      "metadata": {
        "id": "view-in-github",
        "colab_type": "text"
      },
      "source": [
        "<a href=\"https://colab.research.google.com/github/noushadkhan01/MySql/blob/master/full_A_Z.ipynb\" target=\"_parent\"><img src=\"https://colab.research.google.com/assets/colab-badge.svg\" alt=\"Open In Colab\"/></a>"
      ]
    },
    {
      "metadata": {
        "id": "5u16KPKanxwz",
        "colab_type": "text"
      },
      "cell_type": "markdown",
      "source": [
        "# Install MySQL Driver\n",
        "Python needs a MySQL driver to access the MySQL database."
      ]
    },
    {
      "metadata": {
        "id": "Gbntf-iUnxw2",
        "colab_type": "code",
        "colab": {}
      },
      "cell_type": "code",
      "source": [
        "import mysql.connector"
      ],
      "execution_count": 0,
      "outputs": []
    },
    {
      "metadata": {
        "id": "d2nNaH1Tnxw9",
        "colab_type": "text"
      },
      "cell_type": "markdown",
      "source": [
        "# LINKS:--"
      ]
    },
    {
      "metadata": {
        "id": "053EZ0IWnxw_",
        "colab_type": "text"
      },
      "cell_type": "markdown",
      "source": [
        "## [distinct](#DISTINCT)\n",
        "## [between](#BETWEEN)"
      ]
    },
    {
      "metadata": {
        "id": "Mh_tq71FnxxB",
        "colab_type": "text"
      },
      "cell_type": "markdown",
      "source": [
        "# Create Connection\n",
        "Start by creating a connection to the database.\n",
        "\n",
        "Use the username and password from your MySQL database:"
      ]
    },
    {
      "metadata": {
        "id": "w-ri3VXOnxxD",
        "colab_type": "code",
        "colab": {},
        "outputId": "a4b6c277-5832-4125-8240-489852b27704"
      },
      "cell_type": "code",
      "source": [
        "import mysql.connector\n",
        "\n",
        "mydb = mysql.connector.connect(\n",
        "    host = 'localhost',\n",
        "    user = 'user',\n",
        "    #passwd = 'Jannat@1214'\n",
        "    )\n",
        "print(mydb)"
      ],
      "execution_count": 0,
      "outputs": [
        {
          "output_type": "stream",
          "text": [
            "<mysql.connector.connection.MySQLConnection object at 0x00000248FE479D30>\n"
          ],
          "name": "stdout"
        }
      ]
    },
    {
      "metadata": {
        "id": "bfmW4WOLnxxM",
        "colab_type": "text"
      },
      "cell_type": "markdown",
      "source": [
        "# Creating a Database\n",
        "To create a database in MySQL, use the \"CREATE DATABASE\" statement:"
      ]
    },
    {
      "metadata": {
        "id": "Phrvc6MunxxN",
        "colab_type": "text"
      },
      "cell_type": "markdown",
      "source": [
        "## mydb.cursor()"
      ]
    },
    {
      "metadata": {
        "id": "FXSLBiNcnxxO",
        "colab_type": "code",
        "colab": {},
        "outputId": "518fc17f-4606-40ee-d0ed-c1bd5aa26724"
      },
      "cell_type": "code",
      "source": [
        "import mysql.connector\n",
        "\n",
        "mydb = mysql.connector.connect(\n",
        "    host = 'localhost',\n",
        "    user = 'root',\n",
        "    passwd = 'hr5739'\n",
        ")\n",
        "print(mydb)\n",
        "mycursor = mydb.cursor()\n",
        "print(mycursor)\n",
        "mycursor.execute(\"CREATE DATABASE users\")"
      ],
      "execution_count": 0,
      "outputs": [
        {
          "output_type": "stream",
          "text": [
            "<mysql.connector.connection.MySQLConnection object at 0x0000021E9FA195F8>\n",
            "MySQLCursor: (Nothing executed yet)\n"
          ],
          "name": "stdout"
        }
      ]
    },
    {
      "metadata": {
        "id": "qUmImfH_nxxS",
        "colab_type": "text"
      },
      "cell_type": "markdown",
      "source": [
        "## Check if Database Exists\n",
        "\n",
        "You can check if a database exist by listing all databases in your system by using the \n",
        "### \"SHOW DATABASES\" \n",
        "statement:"
      ]
    },
    {
      "metadata": {
        "id": "dx5z0GPwnxxT",
        "colab_type": "code",
        "colab": {},
        "outputId": "9ead08d0-8176-49d8-8b09-db9af7f8315a"
      },
      "cell_type": "code",
      "source": [
        "mycursor.execute('SHOW DATABASES')\n",
        "for x in mycursor:\n",
        "    print(x)"
      ],
      "execution_count": 0,
      "outputs": [
        {
          "output_type": "stream",
          "text": [
            "('information_schema',)\n",
            "('mydatabase',)\n",
            "('mysql',)\n",
            "('performance_schema',)\n",
            "('test',)\n",
            "('users',)\n"
          ],
          "name": "stdout"
        }
      ]
    },
    {
      "metadata": {
        "id": "nfn7kttdnxxX",
        "colab_type": "text"
      },
      "cell_type": "markdown",
      "source": [
        "### Try connecting to the database \"mydatabase\":\n"
      ]
    },
    {
      "metadata": {
        "id": "EMpJZfYmnxxX",
        "colab_type": "code",
        "colab": {}
      },
      "cell_type": "code",
      "source": [
        "import mysql.connector\n",
        "mydb = mysql.connector.connect(\n",
        "    host = 'localhost',\n",
        "    user = 'root',\n",
        "    passwd = 'hr5739',\n",
        "    database = 'users'\n",
        ")"
      ],
      "execution_count": 0,
      "outputs": []
    },
    {
      "metadata": {
        "id": "CNd_Gw9Znxxb",
        "colab_type": "text"
      },
      "cell_type": "markdown",
      "source": [
        "### ^its executed so database exist"
      ]
    },
    {
      "metadata": {
        "id": "ohbPFMixnxxb",
        "colab_type": "text"
      },
      "cell_type": "markdown",
      "source": [
        "# Creating a Table\n",
        "To create a table in MySQL, use the \n",
        "### \"CREATE TABLE\" \n",
        "\n",
        "statement.\n",
        "\n",
        "Make sure you define the name of the database when you create the connection"
      ]
    },
    {
      "metadata": {
        "id": "VycIJ48lnxxc",
        "colab_type": "code",
        "colab": {}
      },
      "cell_type": "code",
      "source": [
        "import mysql.connector\n",
        "mydb = mysql.connector.connect(\n",
        "host = 'localhost',\n",
        "user = 'root',\n",
        "password = 'hr5739',\n",
        "database = 'users'\n",
        ")\n",
        "\n",
        "mycursor = mydb.cursor()\n",
        "mycursor.execute('CREATE TABLE customers(Account_number INT, \\\n",
        "                 name VARCHAR(255), email VARCHAR(255), \\\n",
        "                 username VARCHAR(255), \\\n",
        "                 password VARCHAR(255), balance INT)')"
      ],
      "execution_count": 0,
      "outputs": []
    },
    {
      "metadata": {
        "id": "Ehd7RfDdnxxg",
        "colab_type": "text"
      },
      "cell_type": "markdown",
      "source": [
        "#### ^^If the above code was executed with no errors, you have now successfully created a table."
      ]
    },
    {
      "metadata": {
        "id": "z-spal8Inxxg",
        "colab_type": "text"
      },
      "cell_type": "markdown",
      "source": [
        "# Check if Table Exists\n",
        "You can check if a database exist by listing all tables in your database by using the \n",
        "### \"SHOW TABLES\" \n",
        "statement:"
      ]
    },
    {
      "metadata": {
        "id": "WwNZl-q_nxxh",
        "colab_type": "code",
        "colab": {},
        "outputId": "69d1862d-fd02-4884-822e-5794a0e72ac5"
      },
      "cell_type": "code",
      "source": [
        "mycursor.execute('SHOW TABLES')\n",
        "for x in mycursor:\n",
        "    print(x)"
      ],
      "execution_count": 0,
      "outputs": [
        {
          "output_type": "stream",
          "text": [
            "('customers',)\n"
          ],
          "name": "stdout"
        }
      ]
    },
    {
      "metadata": {
        "id": "e100-duinxxl",
        "colab_type": "text"
      },
      "cell_type": "markdown",
      "source": [
        "# Primary Key\n",
        "When creating a table, you should also create a column with a unique key for each record.\n",
        "\n",
        "This can be done by defining a \n",
        "### PRIMARY KEY.\n",
        "We use the statement \n",
        "### \"INT AUTO_INCREMENT PRIMARY KEY\"\n",
        "which will insert a unique number for each record. Starting at 1, and increased by one for each record."
      ]
    },
    {
      "metadata": {
        "id": "KQmLdbM4nxxm",
        "colab_type": "code",
        "colab": {},
        "outputId": "24206e39-f66f-4ccc-fba3-87c4ccc0a75c"
      },
      "cell_type": "code",
      "source": [
        "try:\n",
        "    import mysql.connector\n",
        "    mydb = mysql.connector.connect(\n",
        "    host = 'localhost',\n",
        "    user = 'root',\n",
        "    password = 'hr5739',\n",
        "    database = 'users'\n",
        "    )\n",
        "\n",
        "    mycursor = mydb.cursor()\n",
        "    mycursor.execute('CREATE TABLE customers(Id INT AUTO_INCREMENT PRIMARY KEY, Account_number INT, \\\n",
        "                     name VARCHAR(255), email VARCHAR(255), \\\n",
        "                     username VARCHAR(255), \\\n",
        "                     password VARCHAR(255), balance INT)')\n",
        "except Exception as e:\n",
        "    print(f'{type(e).__name__}:-- {e}')"
      ],
      "execution_count": 0,
      "outputs": [
        {
          "output_type": "stream",
          "text": [
            "ProgrammingError:-- 1050 (42S01): Table 'customers' already exists\n"
          ],
          "name": "stdout"
        }
      ]
    },
    {
      "metadata": {
        "id": "FfV1Cs7Bnxxq",
        "colab_type": "text"
      },
      "cell_type": "markdown",
      "source": [
        "## Create primary key on an existing table:"
      ]
    },
    {
      "metadata": {
        "id": "OeyJx1mrnxxr",
        "colab_type": "text"
      },
      "cell_type": "markdown",
      "source": [
        "# ALTER TABLE"
      ]
    },
    {
      "metadata": {
        "id": "-wj7-Yutnxxs",
        "colab_type": "code",
        "colab": {}
      },
      "cell_type": "code",
      "source": [
        "import mysql.connector\n",
        "\n",
        "mydb = mysql.connector.connect(\n",
        "  host=\"localhost\",\n",
        "  user=\"root\",\n",
        "  passwd=\"hr5739\",\n",
        "  database=\"users\"\n",
        ")\n",
        "\n",
        "mycursor = mydb.cursor()\n",
        "\n",
        "mycursor.execute(\"ALTER TABLE customers ADD COLUMN id INT AUTO_INCREMENT PRIMARY KEY\") "
      ],
      "execution_count": 0,
      "outputs": []
    },
    {
      "metadata": {
        "id": "KI7XQ9VWnxxu",
        "colab_type": "text"
      },
      "cell_type": "markdown",
      "source": [
        "## Insert Into Table\n",
        "To fill a table in MySQL, use the \n",
        "# \"INSERT INTO\"\n",
        "statement."
      ]
    },
    {
      "metadata": {
        "id": "Ba2z61F1nxxv",
        "colab_type": "code",
        "colab": {},
        "outputId": "bf0117ce-291b-42e9-fd0d-489f1dc7de11"
      },
      "cell_type": "code",
      "source": [
        "sql = 'INSERT INTO customers (Account_number, name, email, username, password, balance) VALUES (%s , %s, %s, %s, %s, %s)'\n",
        "val = (2222, 'Noushad Khan', 'Noushadkhan1994@gmail.com', 'fdfdf', 'passowrd@1283434', 10000)\n",
        "mycursor.execute(sql, val)\n",
        "mydb.commit()\n",
        "print(mycursor.rowcount, 'record interted.')"
      ],
      "execution_count": 0,
      "outputs": [
        {
          "output_type": "stream",
          "text": [
            "1 record interted.\n"
          ],
          "name": "stdout"
        }
      ]
    },
    {
      "metadata": {
        "id": "WSZDDh-rnxx0",
        "colab_type": "text"
      },
      "cell_type": "markdown",
      "source": [
        "## ^^Important!: \n",
        "Notice the statement: \n",
        "# mydb.commit(). \n",
        "It is required to make the changes, otherwise no changes are made to the table."
      ]
    },
    {
      "metadata": {
        "id": "dsYaDYRinxx2",
        "colab_type": "text"
      },
      "cell_type": "markdown",
      "source": [
        "## Insert Multiple Rows\n",
        "To insert multiple rows into a table, use the \n",
        "# executemany() \n",
        "method.\n",
        "The second parameter of the executemany() method is a list of tuples, containing the data you want to insert:"
      ]
    },
    {
      "metadata": {
        "id": "u_lEX9dZnxx5",
        "colab_type": "code",
        "colab": {},
        "outputId": "d9a40662-940e-48c8-c48d-3f06ad2e4b31"
      },
      "cell_type": "code",
      "source": [
        "sql = 'INSERT INTO customers (Account_number, name, email, username, password, balance) VALUES (%s , %s, %s, %s, %s, %s)'\n",
        "val = [\n",
        "    (2222, 'Noushad Khan', 'Noushadkhan1994@gmail.com', 'fdfdf', 'passowrd@1283434', 10000),\n",
        "    (333, 'a', 'b', 'c', 'd', 3000), \n",
        "    (444, 'aa', 'bb', 'cc', 'dd', 20000)\n",
        "    ]\n",
        "mycursor.executemany(sql, val)\n",
        "mydb.commit()\n",
        "print(f'{mycursor.rowcount} was inserted.')"
      ],
      "execution_count": 0,
      "outputs": [
        {
          "output_type": "stream",
          "text": [
            "3 was inserted.\n"
          ],
          "name": "stdout"
        }
      ]
    },
    {
      "metadata": {
        "id": "V5Qp464QnxyB",
        "colab_type": "text"
      },
      "cell_type": "markdown",
      "source": [
        "## Get Inserted ID\n",
        "You can get the id of the row you just inserted by asking the cursor object.\n",
        "\n",
        "### Note: \n",
        "If you insert more that one row, the id of the last inserted row is returned"
      ]
    },
    {
      "metadata": {
        "id": "VgPzsnqBnxyD",
        "colab_type": "raw"
      },
      "cell_type": "markdown",
      "source": [
        "print(mycursor.lastrowid)"
      ]
    },
    {
      "metadata": {
        "id": "4d9URMItnxyD",
        "colab_type": "text"
      },
      "cell_type": "markdown",
      "source": [
        "## Select From a Table\n",
        "To select from a table in MySQL, use the \n",
        "# \"SELECT\"\n",
        "statement:"
      ]
    },
    {
      "metadata": {
        "id": "mYwaxUUInxyE",
        "colab_type": "code",
        "colab": {}
      },
      "cell_type": "code",
      "source": [
        "import mysql.connector\n",
        "mydb = mysql.connector.connect(\n",
        "    host = 'localhost',\n",
        "    user = 'root', \n",
        "    passwd = 'hr5739', \n",
        "    database = 'users'\n",
        ")\n",
        "mycursor = mydb.cursor()"
      ],
      "execution_count": 0,
      "outputs": []
    },
    {
      "metadata": {
        "id": "pgvPyTRPnxyH",
        "colab_type": "code",
        "colab": {},
        "outputId": "10f43dec-bf81-428c-af25-3d2221ebe870"
      },
      "cell_type": "code",
      "source": [
        "mycursor.execute('SELECT * FROM customers')\n",
        "myresult = mycursor.fetchall()\n",
        "for x in myresult:\n",
        "    print(x)"
      ],
      "execution_count": 0,
      "outputs": [
        {
          "output_type": "stream",
          "text": [
            "(2222, 'Noushad Khan', 'Noushadkhan1994@gmail.com', 'fdfdf', 'passowrd@1283434', 10000, 1)\n",
            "(2222, 'Noushad Khan', 'Noushadkhan1994@gmail.com', 'fdfdf', 'passowrd@1283434', 10000, 2)\n",
            "(333, 'a', 'b', 'c', 'd', 3000, 3)\n",
            "(444, 'aa', 'bb', 'cc', 'dd', 20000, 4)\n"
          ],
          "name": "stdout"
        }
      ]
    },
    {
      "metadata": {
        "id": "9WZBh_vwnxyK",
        "colab_type": "code",
        "colab": {}
      },
      "cell_type": "code",
      "source": [
        "import pandas as pd\n",
        "import sqlalchemy"
      ],
      "execution_count": 0,
      "outputs": []
    },
    {
      "metadata": {
        "id": "o_lNJ6CLnxyM",
        "colab_type": "text"
      },
      "cell_type": "markdown",
      "source": [
        "## Selecting Columns\n",
        "To select only some of the columns in a table, use the \n",
        "\n",
        "# \"SELECT\" \n",
        "statement followed by the column name(s):"
      ]
    },
    {
      "metadata": {
        "id": "FB5zVdUgnxyN",
        "colab_type": "code",
        "colab": {},
        "outputId": "f1a1f9c8-6b22-4a80-b29e-fd2a0878556b"
      },
      "cell_type": "code",
      "source": [
        "mycursor.execute('SELECT Account_number FROM customers')\n",
        "myresult = mycursor.fetchall()\n",
        "for i in myresult:\n",
        "    print(i)"
      ],
      "execution_count": 0,
      "outputs": [
        {
          "output_type": "stream",
          "text": [
            "(2222,)\n",
            "(2222,)\n",
            "(333,)\n",
            "(444,)\n"
          ],
          "name": "stdout"
        }
      ]
    },
    {
      "metadata": {
        "id": "o0MEa45vnxyQ",
        "colab_type": "text"
      },
      "cell_type": "markdown",
      "source": [
        "## Using the \n",
        "# fetchone() \n",
        "Method\n",
        "If you are only interested in one row, you can use the\n",
        "### fetchone() \n",
        "method.\n",
        "The fetchone() method will return the first row of the result:"
      ]
    },
    {
      "metadata": {
        "id": "nPWhBKsLnxyR",
        "colab_type": "code",
        "colab": {},
        "outputId": "7e9c0eb1-af54-4a31-be1f-ba1fdf1b2a64"
      },
      "cell_type": "code",
      "source": [
        "myresult = mycursor.fetchone()\n",
        "print(myresult)"
      ],
      "execution_count": 0,
      "outputs": [
        {
          "output_type": "stream",
          "text": [
            "None\n"
          ],
          "name": "stdout"
        }
      ]
    },
    {
      "metadata": {
        "id": "_ZT2_50XnxyU",
        "colab_type": "code",
        "colab": {},
        "outputId": "d5ef3a18-6053-4393-86ba-72fcb68ba89c"
      },
      "cell_type": "code",
      "source": [
        "mycursor.execute('SELECT Account_number FROM customers')\n",
        "print(mycursor.fetchone())"
      ],
      "execution_count": 0,
      "outputs": [
        {
          "output_type": "stream",
          "text": [
            "(2222,)\n"
          ],
          "name": "stdout"
        }
      ]
    },
    {
      "metadata": {
        "id": "DgtO2zt3nxyZ",
        "colab_type": "text"
      },
      "cell_type": "markdown",
      "source": [
        "#### ^^it will fetch the first one from the entire data"
      ]
    },
    {
      "metadata": {
        "id": "o_iOX82Ynxya",
        "colab_type": "text"
      },
      "cell_type": "markdown",
      "source": [
        "# WHERE"
      ]
    },
    {
      "metadata": {
        "id": "xLkNQuzanxyd",
        "colab_type": "text"
      },
      "cell_type": "markdown",
      "source": [
        "### Select With a Filter\n",
        "When selecting records from a table, you can filter the selection by using the \n",
        "### \"WHERE\"\n",
        "statement:"
      ]
    },
    {
      "metadata": {
        "id": "ZDPpMgPhnxyd",
        "colab_type": "text"
      },
      "cell_type": "markdown",
      "source": [
        "## for integer values"
      ]
    },
    {
      "metadata": {
        "id": "jQZvEBpbnxyf",
        "colab_type": "code",
        "colab": {},
        "outputId": "09d4fce2-6631-428a-a387-077596ab5aae"
      },
      "cell_type": "code",
      "source": [
        "import mysql.connector\n",
        "mydb = mysql.connector.connect(\n",
        "host = 'localhost',\n",
        "user = 'root',\n",
        "passwd = 'hr5739',\n",
        "database = 'users')\n",
        "sql = \"SELECT * FROM customers WHERE Account_number = 2222\"\n",
        "mycursor.execute(sql)\n",
        "result = mycursor.fetchall()\n",
        "for x in result:\n",
        "    print(x)"
      ],
      "execution_count": 0,
      "outputs": [
        {
          "output_type": "stream",
          "text": [
            "(2222, 'Noushad Khan', 'Noushadkhan1994@gmail.com', 'fdfdf', 'passowrd@1283434', 10000, 1)\n",
            "(2222, 'Noushad Khan', 'Noushadkhan1994@gmail.com', 'fdfdf', 'passowrd@1283434', 10000, 2)\n"
          ],
          "name": "stdout"
        }
      ]
    },
    {
      "metadata": {
        "id": "kREvuBwxnxyj",
        "colab_type": "text"
      },
      "cell_type": "markdown",
      "source": [
        "## for string values"
      ]
    },
    {
      "metadata": {
        "id": "ULwcdzJinxym",
        "colab_type": "code",
        "colab": {},
        "outputId": "6c2324bb-291e-48ef-b73c-d8f390cef9e8"
      },
      "cell_type": "code",
      "source": [
        "import mysql.connector\n",
        "mydb = mysql.connector.connect(\n",
        "host = 'localhost',\n",
        "user = 'root',\n",
        "passwd = 'hr5739',\n",
        "database = 'users')\n",
        "sql = \"SELECT * FROM customers WHERE name = 'Noushad Khan'\"\n",
        "mycursor.execute(sql)\n",
        "result = mycursor.fetchall()\n",
        "for x in result:\n",
        "    print(x)"
      ],
      "execution_count": 0,
      "outputs": [
        {
          "output_type": "stream",
          "text": [
            "(2222, 'Noushad Khan', 'Noushadkhan1994@gmail.com', 'fdfdf', 'passowrd@1283434', 10000, 1)\n",
            "(2222, 'Noushad Khan', 'Noushadkhan1994@gmail.com', 'fdfdf', 'passowrd@1283434', 10000, 2)\n"
          ],
          "name": "stdout"
        }
      ]
    },
    {
      "metadata": {
        "id": "4nT2PJelnxyq",
        "colab_type": "text"
      },
      "cell_type": "markdown",
      "source": [
        "## Wildcard Characters\n",
        "You can also select the records that starts, includes, or ends with a given letter or phrase.\n",
        "Use the \n",
        "# %\n",
        "to represent wildcard characters:"
      ]
    },
    {
      "metadata": {
        "id": "w_3KEgq6nxyq",
        "colab_type": "text"
      },
      "cell_type": "markdown",
      "source": [
        "## 1:--  '%word%'"
      ]
    },
    {
      "metadata": {
        "id": "7JX_tOSgnxyr",
        "colab_type": "text"
      },
      "cell_type": "markdown",
      "source": [
        "#### Select records where the address contains the word \"way\":"
      ]
    },
    {
      "metadata": {
        "id": "aSVT8Ex6nxyu",
        "colab_type": "text"
      },
      "cell_type": "markdown",
      "source": [
        "## LIKE"
      ]
    },
    {
      "metadata": {
        "id": "6-iHlN9dnxyu",
        "colab_type": "text"
      },
      "cell_type": "markdown",
      "source": [
        "##### Must Visit Progate:-- https://bit.ly/2ONM1il"
      ]
    },
    {
      "metadata": {
        "id": "HpNfe8sinxyv",
        "colab_type": "code",
        "colab": {},
        "outputId": "b8bc3f22-184a-4968-e049-58ad4c591b23"
      },
      "cell_type": "code",
      "source": [
        "sql = \"SELECT * FROM customers WHERE name LIKE '%a%'\"\n",
        "mycursor.execute(sql)\n",
        "result = mycursor.fetchall()\n",
        "for x in result:\n",
        "    print(x)"
      ],
      "execution_count": 0,
      "outputs": [
        {
          "output_type": "stream",
          "text": [
            "(2222, 'Noushad Khan', 'Noushadkhan1994@gmail.com', 'fdfdf', 'passowrd@1283434', 10000, 1)\n",
            "(2222, 'Noushad Khan', 'Noushadkhan1994@gmail.com', 'fdfdf', 'passowrd@1283434', 10000, 2)\n",
            "(333, 'a', 'b', 'c', 'd', 3000, 3)\n",
            "(444, 'aa', 'bb', 'cc', 'dd', 20000, 4)\n"
          ],
          "name": "stdout"
        }
      ]
    },
    {
      "metadata": {
        "id": "DTwC1rgPnxyz",
        "colab_type": "text"
      },
      "cell_type": "markdown",
      "source": [
        "## 2:-- 'word%''\n",
        "this is called prefix search\n",
        "it return a rows which contains word in the last of specific column"
      ]
    },
    {
      "metadata": {
        "id": "f4S4Td9qnxy0",
        "colab_type": "code",
        "colab": {},
        "outputId": "fa9bd19e-28bb-4b28-9033-eddc911cae5e"
      },
      "cell_type": "code",
      "source": [
        "sql = \"SELECT * FROM customers WHERE name LIKE 'n%'\"\n",
        "mycursor.execute(sql)\n",
        "result = mycursor.fetchall()\n",
        "for x in result:\n",
        "    print(x)"
      ],
      "execution_count": 0,
      "outputs": [
        {
          "output_type": "stream",
          "text": [
            "(2222, 'Noushad Khan', 'Noushadkhan1994@gmail.com', 'fdfdf', 'passowrd@1283434', 10000, 1)\n",
            "(2222, 'Noushad Khan', 'Noushadkhan1994@gmail.com', 'fdfdf', 'passowrd@1283434', 10000, 2)\n"
          ],
          "name": "stdout"
        }
      ]
    },
    {
      "metadata": {
        "id": "EmqZ4aeAnxy4",
        "colab_type": "text"
      },
      "cell_type": "markdown",
      "source": [
        "## 2:-- '%word''\n",
        "this is called postfix search\n",
        "it return a rows which contains word at the starting of specific column"
      ]
    },
    {
      "metadata": {
        "scrolled": true,
        "id": "6MkTixkUnxy4",
        "colab_type": "code",
        "colab": {},
        "outputId": "457ce725-a57c-4081-e09a-60f6a843ea51"
      },
      "cell_type": "code",
      "source": [
        "sql = \"SELECT * FROM customers WHERE name LIKE '%N'\"\n",
        "mycursor.execute(sql)\n",
        "result = mycursor.fetchall()\n",
        "for x in result:\n",
        "    print(x)"
      ],
      "execution_count": 0,
      "outputs": [
        {
          "output_type": "stream",
          "text": [
            "(2222, 'Noushad Khan', 'Noushadkhan1994@gmail.com', 'fdfdf', 'passowrd@1283434', 10000, 1)\n",
            "(2222, 'Noushad Khan', 'Noushadkhan1994@gmail.com', 'fdfdf', 'passowrd@1283434', 10000, 2)\n"
          ],
          "name": "stdout"
        }
      ]
    },
    {
      "metadata": {
        "id": "hxHapH04nxy7",
        "colab_type": "text"
      },
      "cell_type": "markdown",
      "source": [
        "# NOT"
      ]
    },
    {
      "metadata": {
        "id": "YkOkXshsnxy7",
        "colab_type": "code",
        "colab": {},
        "outputId": "d01ece09-e760-4ed2-bbc9-3b8d1d66c138"
      },
      "cell_type": "code",
      "source": [
        "sql = \"SELECT * FROM customers WHERE NOT name LIKE '%N'\"\n",
        "mycursor.execute(sql)\n",
        "result = mycursor.fetchall()\n",
        "for x in result:\n",
        "    print(x)"
      ],
      "execution_count": 0,
      "outputs": [
        {
          "output_type": "stream",
          "text": [
            "(333, 'a', 'b', 'c', 'd', 3000, 3)\n",
            "(444, 'aa', 'bb', 'cc', 'dd', 20000, 4)\n"
          ],
          "name": "stdout"
        }
      ]
    },
    {
      "metadata": {
        "id": "Ywq47W2nnxy_",
        "colab_type": "code",
        "colab": {},
        "outputId": "e563ba6b-cccb-4fd2-c7c6-e17b681d30dc"
      },
      "cell_type": "code",
      "source": [
        "import mysql.connector\n",
        "mydb = mysql.connector.connect(\n",
        "    host = 'localhost',\n",
        "    user = 'root', \n",
        "    passwd = 'hr5739',\n",
        "    database = 'users'\n",
        ")\n",
        "mycursor = mydb.cursor()\n",
        "sql = \"SELECT * FROM customers WHERE NOT name = 'Noushad Khan'\"\n",
        "mycursor.execute(sql)\n",
        "result = mycursor.fetchall()\n",
        "for x in result:\n",
        "    print(x)"
      ],
      "execution_count": 0,
      "outputs": [
        {
          "output_type": "stream",
          "text": [
            "(333, 'a', 'b', 'c', 'd', 3000, 3)\n",
            "(444, 'aa', 'bb', 'cc', 'dd', 20000, 4)\n"
          ],
          "name": "stdout"
        }
      ]
    },
    {
      "metadata": {
        "id": "x5ObisxrnxzJ",
        "colab_type": "text"
      },
      "cell_type": "markdown",
      "source": [
        "\n",
        "## Getting Rows with NULL Values\n",
        "\n",
        "In order to select rows that contain a NULL value for some column, we can use \n",
        "# IS NULL. \n",
        "As in the example below, by using a condition like \"where column_name IS NULL\" we can find rows in which the value of a certain column is NULL."
      ]
    },
    {
      "metadata": {
        "id": "kzS0UH3OnxzJ",
        "colab_type": "text"
      },
      "cell_type": "markdown",
      "source": [
        "### try to create null value by leaving the price empty"
      ]
    },
    {
      "metadata": {
        "id": "QXya6jxenxzK",
        "colab_type": "code",
        "colab": {},
        "outputId": "3ce15bd6-47b6-4dfc-b782-e870dd9ec926"
      },
      "cell_type": "code",
      "source": [
        "try:\n",
        "    sql = 'INSERT INTO customers (Account_number, name, email, username, password, balance) VALUES (%s , %s, %s, %s, %s, %s)'\n",
        "    val = (222222, 'fb', 'fb@gmail.com', 'fdfdf', 'passowr')\n",
        "    mycursor.execute(sql, val)\n",
        "    mydb.commit()\n",
        "    print(mycursor.rowcount, 'record interted.')\n",
        "except Exception as e:\n",
        "    print(f'{type(e).__name__}:-- {e}')"
      ],
      "execution_count": 0,
      "outputs": [
        {
          "output_type": "stream",
          "text": [
            "ProgrammingError:-- Not enough parameters for the SQL statement\n"
          ],
          "name": "stdout"
        }
      ]
    },
    {
      "metadata": {
        "id": "2mdfvGNlnxzP",
        "colab_type": "text"
      },
      "cell_type": "markdown",
      "source": [
        "#### make balance = NULL"
      ]
    },
    {
      "metadata": {
        "id": "qBobsv1qnxzR",
        "colab_type": "code",
        "colab": {},
        "outputId": "d28da557-fa47-4ae8-b209-de850df35913"
      },
      "cell_type": "code",
      "source": [
        "try:\n",
        "    sql = 'INSERT INTO customers (Account_number, name, email, username, password, balance) VALUES (%s , %s, %s, %s, %s, %s)'\n",
        "    val = (222222, 'fb', 'fb@gmail.com', 'fdfdf', 'passowr', None)\n",
        "    mycursor.execute(sql, val)\n",
        "    mydb.commit()\n",
        "    print(mycursor.rowcount, 'record interted.')\n",
        "except Exception as e:\n",
        "    print(f'{type(e).__name__}:-- {e}')"
      ],
      "execution_count": 0,
      "outputs": [
        {
          "output_type": "stream",
          "text": [
            "1 record interted.\n"
          ],
          "name": "stdout"
        }
      ]
    },
    {
      "metadata": {
        "id": "HQIUzuxInxzX",
        "colab_type": "code",
        "colab": {},
        "outputId": "dd180f84-c89b-4767-812b-858117124b16"
      },
      "cell_type": "code",
      "source": [
        "sql = 'SELECT * FROM customers WHERE balance IS NULL'\n",
        "mycursor.execute(sql)\n",
        "result = mycursor.fetchall()\n",
        "for i in result:\n",
        "    print(i)"
      ],
      "execution_count": 0,
      "outputs": [
        {
          "output_type": "stream",
          "text": [
            "(222222, 'fb', 'fb@gmail.com', 'fdfdf', 'passowr', None, 5)\n"
          ],
          "name": "stdout"
        }
      ]
    },
    {
      "metadata": {
        "id": "0Ho841fQnxza",
        "colab_type": "text"
      },
      "cell_type": "markdown",
      "source": [
        "##### ^^in this the last one is id"
      ]
    },
    {
      "metadata": {
        "id": "_FmtmVyGnxzb",
        "colab_type": "text"
      },
      "cell_type": "markdown",
      "source": [
        "## IS NOT NULL:--\n",
        "    by this we will get rows with True values means not NULL"
      ]
    },
    {
      "metadata": {
        "id": "rqTPAXgnnxzb",
        "colab_type": "text"
      },
      "cell_type": "markdown",
      "source": [
        "# AND Operator:-\n",
        "If you use AND operator, you can put multiple conditions in a WHERE clause, Using the sturucture \n",
        "### 'WHERE' condition1 AND condition2.\n",
        "you can search for only rows that are true for both conditions."
      ]
    },
    {
      "metadata": {
        "id": "WMMJYCSonxzc",
        "colab_type": "text"
      },
      "cell_type": "markdown",
      "source": [
        "# OR Operator:--\n",
        "    Like the AND operator, the OR operator can be used to make SQL statements with multiple conditions. Using the structure \n",
        "### \"WHERE condition1 OR condition2\"\n",
        ", you can search for rows that meet either one of the conditions (or both).\n",
        "    "
      ]
    },
    {
      "metadata": {
        "id": "S9eO54uInxzd",
        "colab_type": "text"
      },
      "cell_type": "markdown",
      "source": [
        "# Ordering Rows:-\n",
        "To put rows in order, you can use \n",
        "## ORDER BY\n",
        "in SQL. You can also choose a specific column to use order the rows by, as shown in the example below. You must also specify how the rows should be ordered at the end."
      ]
    },
    {
      "metadata": {
        "id": "HNHt8bIjnxze",
        "colab_type": "text"
      },
      "cell_type": "markdown",
      "source": [
        "### ORDER BY column_name order_method;"
      ]
    },
    {
      "metadata": {
        "id": "Q-XG3gNDnxze",
        "colab_type": "text"
      },
      "cell_type": "markdown",
      "source": [
        "#### order_method = ASC(ascending) or DSC(descending)"
      ]
    },
    {
      "metadata": {
        "id": "hoBWrQP_nxzf",
        "colab_type": "code",
        "colab": {},
        "outputId": "322aef2a-bb5f-4aaf-d498-55825e187e58"
      },
      "cell_type": "code",
      "source": [
        "sql = 'SELECT * FROM customers ORDER BY balance DESC'\n",
        "mycursor.execute(sql)\n",
        "result = mycursor.fetchall()\n",
        "for i in result:\n",
        "    print(i)"
      ],
      "execution_count": 0,
      "outputs": [
        {
          "output_type": "stream",
          "text": [
            "(444, 'aa', 'bb', 'cc', 'dd', 20000, 4)\n",
            "(2222, 'Noushad Khan', 'Noushadkhan1994@gmail.com', 'fdfdf', 'passowrd@1283434', 10000, 1)\n",
            "(2222, 'Noushad Khan', 'Noushadkhan1994@gmail.com', 'fdfdf', 'passowrd@1283434', 10000, 2)\n",
            "(333, 'a', 'b', 'c', 'd', 3000, 3)\n",
            "(222222, 'fb', 'fb@gmail.com', 'fdfdf', 'passowr', None, 5)\n"
          ],
          "name": "stdout"
        }
      ]
    },
    {
      "metadata": {
        "id": "DmqMmbi4nxzj",
        "colab_type": "text"
      },
      "cell_type": "markdown",
      "source": [
        "###### ^^in this last columns is Id"
      ]
    },
    {
      "metadata": {
        "id": "-1BVN1gmnxzj",
        "colab_type": "text"
      },
      "cell_type": "markdown",
      "source": [
        "# LIMIT:-\n",
        "    To set a specific \"maximum number of results\", you can use LIMIT. \n",
        "See how it works in the example below.\n",
        "    "
      ]
    },
    {
      "metadata": {
        "id": "XbR-GYLhnxzn",
        "colab_type": "code",
        "colab": {},
        "outputId": "8f5dc0b8-a140-42e3-9516-8b636f9bef36"
      },
      "cell_type": "code",
      "source": [
        "sql = 'SELECT * FROM customers ORDER BY balance DESC LIMIT 3'\n",
        "mycursor.execute(sql)\n",
        "result = mycursor.fetchall()\n",
        "for i in result:\n",
        "    print(i)"
      ],
      "execution_count": 0,
      "outputs": [
        {
          "output_type": "stream",
          "text": [
            "(444, 'aa', 'bb', 'cc', 'dd', 20000, 4)\n",
            "(2222, 'Noushad Khan', 'Noushadkhan1994@gmail.com', 'fdfdf', 'passowrd@1283434', 10000, 1)\n",
            "(2222, 'Noushad Khan', 'Noushadkhan1994@gmail.com', 'fdfdf', 'passowrd@1283434', 10000, 2)\n"
          ],
          "name": "stdout"
        }
      ]
    },
    {
      "metadata": {
        "id": "PPBaRM-_nxzr",
        "colab_type": "text"
      },
      "cell_type": "markdown",
      "source": [
        "# DISTINCT\n",
        "y using \n",
        "### DISTINCT \n",
        "you can exclude duplicate rows of data from your search results. You can specify the\n",
        "##### name of a column\n",
        "to get only unique rows, omitting duplicates. To do this, use the following \n",
        "#### syntax: DISTINCT( column_name )\n"
      ]
    },
    {
      "metadata": {
        "id": "GMtdZ6pGnxzt",
        "colab_type": "code",
        "colab": {},
        "outputId": "f273f2ba-d225-4c55-999e-1d6b054252be"
      },
      "cell_type": "code",
      "source": [
        "import mysql.connector\n",
        "mydb = mysql.connector.connect(\n",
        "    host = 'localhost',\n",
        "    user = 'root',\n",
        "    passwd = 'hr5739',\n",
        "    database = 'users'\n",
        ")\n",
        "mycursor = mydb.cursor()\n",
        "\n",
        "sql = 'SELECT DISTINCT(name) FROM customers LIMIT 3'\n",
        "mycursor.execute(sql)\n",
        "result = mycursor.fetchall()\n",
        "for i in result:\n",
        "    print(i)"
      ],
      "execution_count": 0,
      "outputs": [
        {
          "output_type": "stream",
          "text": [
            "('Noushad Khan',)\n",
            "('a',)\n",
            "('aa',)\n"
          ],
          "name": "stdout"
        }
      ]
    },
    {
      "metadata": {
        "id": "a7TxV0Ccnxz4",
        "colab_type": "code",
        "colab": {},
        "outputId": "3c03751e-fe71-4cbb-cccb-689d3ea172fb"
      },
      "cell_type": "code",
      "source": [
        "import mysql.connector\n",
        "mydb = mysql.connector.connect(\n",
        "    host = 'localhost',\n",
        "    user = 'root',\n",
        "    passwd = 'hr5739',\n",
        "    database = 'users'\n",
        ")\n",
        "mycursor = mydb.cursor()\n",
        "\n",
        "sql = 'SELECT DISTINCT ACCOUNT_NUMBER, NAME, EMAIL, USERNAME, PASSWORD, BALANCE FROM customers'\n",
        "mycursor.execute(sql)\n",
        "result = mycursor.fetchall()\n",
        "for i in result:\n",
        "    print(i)"
      ],
      "execution_count": 0,
      "outputs": [
        {
          "output_type": "stream",
          "text": [
            "(2222, 'Noushad Khan', 'Noushadkhan1994@gmail.com', 'fdfdf', 'passowrd@1283434', 10000)\n",
            "(333, 'a', 'b', 'c', 'd', 3000)\n",
            "(444, 'aa', 'bb', 'cc', 'dd', 20000)\n",
            "(222222, 'fb', 'fb@gmail.com', 'fdfdf', 'passowr', None)\n"
          ],
          "name": "stdout"
        }
      ]
    },
    {
      "metadata": {
        "id": "Gwy1y4jMnxz9",
        "colab_type": "text"
      },
      "cell_type": "markdown",
      "source": [
        "# Arithmetic Operations on SQL data\n",
        "It's possible to do calculations in SQL with the these arithmetic oerators: + , -, /, and *. Using these operators, you can perform calculations on the rows of a specific column."
      ]
    },
    {
      "metadata": {
        "id": "Rsrz5Y55nxz-",
        "colab_type": "code",
        "colab": {},
        "outputId": "6f299497-7181-4908-86eb-da209b0f17eb"
      },
      "cell_type": "code",
      "source": [
        "sql = 'SELECT Account_number, balance*3 FROM customers'\n",
        "mycursor.execute(sql)\n",
        "result = mycursor.fetchall()\n",
        "print(result)"
      ],
      "execution_count": 0,
      "outputs": [
        {
          "output_type": "stream",
          "text": [
            "[(2222, 30000), (2222, 30000), (333, 9000), (444, 60000), (222222, None)]\n"
          ],
          "name": "stdout"
        }
      ]
    },
    {
      "metadata": {
        "id": "pe84u8tenx0E",
        "colab_type": "text"
      },
      "cell_type": "markdown",
      "source": [
        "# GROUP BY\n",
        "The SQL **GROUP BY** clause is used in collaboration with the **SELECT** statement to arrange identical data into groups. This **GROUP BY** cluase follows the **WHERE** clause in as **SELECT** statement and precedes the **ORDER BY** cluase.\n",
        "\n",
        "The **GROUP BY** clause must follow the conditions in the **WHERE** clause and must precede the **ORDER BY** clause if one is used."
      ]
    },
    {
      "metadata": {
        "id": "H51Tb1dKnx0F",
        "colab_type": "code",
        "colab": {},
        "outputId": "08595521-6819-4dea-c9ef-d16946795810"
      },
      "cell_type": "code",
      "source": [
        "import mysql.connector\n",
        "mydb = mysql.connector.connect(\n",
        "    host = 'localhost',\n",
        "    user = 'root',\n",
        "    passwd = 'hr5739',\n",
        "    database = 'users'\n",
        "\n",
        ")\n",
        "\n",
        "sql = 'SELECT ACCOUNT_NUMBER, NAME, EMAIL, BALANCE FROM CUSTOMERS WHERE BALANCE IS NOT NULL GROUP BY ACCOUNT_NUMBER ORDER BY BALANCE DESC'\n",
        "mycursor.execute(sql)\n",
        "for i in mycursor.fetchall():\n",
        "    print(i)"
      ],
      "execution_count": 0,
      "outputs": [
        {
          "output_type": "stream",
          "text": [
            "(444, 'aa', 'bb', 20000)\n",
            "(2222, 'Noushad Khan', 'Noushadkhan1994@gmail.com', 10000)\n",
            "(333, 'a', 'b', 3000)\n"
          ],
          "name": "stdout"
        }
      ]
    },
    {
      "metadata": {
        "id": "4wYh0G4qnx0J",
        "colab_type": "text"
      },
      "cell_type": "markdown",
      "source": [
        "# UPDATE\n",
        "The SQL **UPDATE** Query is used to modify the existing records in a table. You can use the **WHERE** clause with the **UPDATE** query to update the selected rows, otherwise all the rows would be affected."
      ]
    },
    {
      "metadata": {
        "id": "eGE9p4kYnx0K",
        "colab_type": "code",
        "colab": {}
      },
      "cell_type": "code",
      "source": [
        "mycursor.execute('UPDATE CUSTOMERS SET NAME = \\'SAHIL RANA\\' WHERE ID = 2')"
      ],
      "execution_count": 0,
      "outputs": []
    },
    {
      "metadata": {
        "id": "cf_-Rpq4nx0N",
        "colab_type": "code",
        "colab": {},
        "outputId": "04016221-fc9c-46d7-9ca3-b15f2bed84f4"
      },
      "cell_type": "code",
      "source": [
        "import mysql.connector\n",
        "mydb = mysql.connector.connect(\n",
        "    host = 'localhost',\n",
        "    user = 'root',\n",
        "    passwd = 'hr5739',\n",
        "    database = 'users'\n",
        "\n",
        ")\n",
        "\n",
        "sql = 'SELECT ACCOUNT_NUMBER, NAME, EMAIL, BALANCE FROM CUSTOMERS WHERE BALANCE IS NOT NULL GROUP BY NAME ORDER BY BALANCE DESC'\n",
        "mycursor.execute(sql)\n",
        "for i in mycursor.fetchall():\n",
        "    print(i)"
      ],
      "execution_count": 0,
      "outputs": [
        {
          "output_type": "stream",
          "text": [
            "(444, 'aa', 'bb', 20000)\n",
            "(2222, 'Noushad Khan', 'Noushadkhan1994@gmail.com', 10000)\n",
            "(2222, 'SAHIL RANA', 'Noushadkhan1994@gmail.com', 10000)\n",
            "(333, 'a', 'b', 3000)\n"
          ],
          "name": "stdout"
        }
      ]
    },
    {
      "metadata": {
        "id": "UY3fR6pfnx0S",
        "colab_type": "text"
      },
      "cell_type": "markdown",
      "source": [
        "# JOINS\n",
        "The SQL **Joins** clause is used to combine records from two or more tables in a database. A **JOIN** is a means for combining fields from two tables **by using values common to each.**"
      ]
    },
    {
      "metadata": {
        "id": "s9Z8qH-Vnx0T",
        "colab_type": "text"
      },
      "cell_type": "markdown",
      "source": [
        "###### FIRST CREATE 2ND TABLE"
      ]
    },
    {
      "metadata": {
        "id": "dmpNiohvnx0U",
        "colab_type": "code",
        "colab": {}
      },
      "cell_type": "code",
      "source": [
        "try:\n",
        "    import mysql.connector\n",
        "    mydb = mysql.connector.connect(\n",
        "    host = 'localhost',\n",
        "    user = 'root',\n",
        "    password = 'hr5739',\n",
        "    database = 'users'\n",
        "    )\n",
        "\n",
        "    mycursor = mydb.cursor()\n",
        "    mycursor.execute('CREATE TABLE CUSTOMERS_RECORD(RID INT AUTO_INCREMENT PRIMARY KEY, DATE date, Account_number INT, CREDIT DECIMAL, DEBIT DECIMAL)')\n",
        "except Exception as e:\n",
        "    print(f'{type(e).__name__}:-- {e}')"
      ],
      "execution_count": 0,
      "outputs": []
    },
    {
      "metadata": {
        "id": "_2OW3y_Pnx0W",
        "colab_type": "text"
      },
      "cell_type": "markdown",
      "source": [
        "###### INSERT INTO 2ND TABLE"
      ]
    },
    {
      "metadata": {
        "id": "wILVjhkWnx0W",
        "colab_type": "code",
        "colab": {},
        "outputId": "0823f314-873e-479a-c8ec-60801cb8c610"
      },
      "cell_type": "code",
      "source": [
        "sql = \"INSERT INTO CUSTOMERS_RECORD (DATE, Account_number, CREDIT, DEBIT) VALUES \\\n",
        "('2018-01-01', 22232, 1000.22, 3000.33)\"\n",
        "mycursor.execute(sql)\n",
        "mydb.commit()\n",
        "print(mycursor.rowcount, 'record interted.')"
      ],
      "execution_count": 0,
      "outputs": [
        {
          "output_type": "stream",
          "text": [
            "1 record interted.\n"
          ],
          "name": "stdout"
        }
      ]
    },
    {
      "metadata": {
        "id": "x6ilj5iknx0a",
        "colab_type": "text"
      },
      "cell_type": "markdown",
      "source": [
        "###### CECK"
      ]
    },
    {
      "metadata": {
        "id": "IV7_MPhJnx0a",
        "colab_type": "code",
        "colab": {},
        "outputId": "fd8d9d0c-b2e5-4d8b-db99-b000078e4106"
      },
      "cell_type": "code",
      "source": [
        "mycursor.execute('SELECT * FROM CUSTOMERS_RECORD')\n",
        "for i in mycursor.fetchall():\n",
        "    print(i)"
      ],
      "execution_count": 0,
      "outputs": [
        {
          "output_type": "stream",
          "text": [
            "(1, datetime.date(2018, 1, 1), 2222, Decimal('1000'), Decimal('3000'))\n",
            "(2, datetime.date(2018, 1, 1), 22232, Decimal('1000'), Decimal('3000'))\n"
          ],
          "name": "stdout"
        }
      ]
    },
    {
      "metadata": {
        "id": "qpAmeuBLnx0d",
        "colab_type": "text"
      },
      "cell_type": "markdown",
      "source": [
        "### JOIN"
      ]
    },
    {
      "metadata": {
        "id": "8Xh4xxVYnx0e",
        "colab_type": "code",
        "colab": {},
        "outputId": "89886c96-6cf0-4834-f2a0-11ffab3647c9"
      },
      "cell_type": "code",
      "source": [
        "try:\n",
        "    import mysql.connector\n",
        "    mydb = mysql.connector.connect(\n",
        "        host = 'localhost',\n",
        "        user = 'root',\n",
        "        passwd = 'hr5739',\n",
        "        database = 'users'\n",
        "\n",
        "    )\n",
        "    mycursor = mydb.cursor()\n",
        "\n",
        "    sql = 'SELECT DATE, NAME, DEBIT, \\\n",
        "    CREDIT, BALANCE FROM CUSTOMERS, \\\n",
        "    CUSTOMERS_RECORD WHERE \\\n",
        "    CUSTOMERS.ACCOUNT_NUMBER = CUSTOMERS_RECORD.ACCOUNT_NUMBER'\n",
        "    mycursor.execute(sql)\n",
        "    for i in mycursor.fetchall():\n",
        "        print(i)\n",
        "except Exception as e:\n",
        "    print(f'{type(e).__name__}:--{e}')"
      ],
      "execution_count": 0,
      "outputs": [
        {
          "output_type": "stream",
          "text": [
            "(datetime.date(2018, 1, 1), 'Noushad Khan', Decimal('3000'), Decimal('1000'), 10000)\n",
            "(datetime.date(2018, 1, 1), 'Noushad Khan', Decimal('3000'), Decimal('1000'), 10000)\n"
          ],
          "name": "stdout"
        }
      ]
    },
    {
      "metadata": {
        "id": "c8ttWqKZnx0i",
        "colab_type": "code",
        "colab": {},
        "outputId": "980bccb3-40e6-49ec-bfc3-bfa6581e4ab5"
      },
      "cell_type": "code",
      "source": [
        "try:\n",
        "    import mysql.connector\n",
        "    mydb = mysql.connector.connect(\n",
        "        host = 'localhost',\n",
        "        user = 'root',\n",
        "        passwd = 'hr5739',\n",
        "        database = 'users'\n",
        "\n",
        "    )\n",
        "    mycursor = mydb.cursor()\n",
        "    sql = 'SELECT DEBIT, CREDIT FROM CUSTOMERS, \\\n",
        "    CUSTOMERS_RECORD WHERE \\\n",
        "    CUSTOMERS.ACCOUNT_NUMBER = CUSTOMERS_RECORD.ACCOUNT_NUMBER'\n",
        "    mycursor.execute(sql)\n",
        "    #print('f')\n",
        "    for i in mycursor.fetchall():\n",
        "        print(i)\n",
        "except Exception as e:\n",
        "    print(f'{type(e).__name__}:--{e}')"
      ],
      "execution_count": 0,
      "outputs": [
        {
          "output_type": "stream",
          "text": [
            "(Decimal('3000'), Decimal('1000'))\n",
            "(Decimal('3000'), Decimal('1000'))\n"
          ],
          "name": "stdout"
        }
      ]
    },
    {
      "metadata": {
        "id": "7GfXgx6znx0n",
        "colab_type": "text"
      },
      "cell_type": "markdown",
      "source": [
        "## INNER JOIN"
      ]
    },
    {
      "metadata": {
        "id": "GVX0KLoZnx0n",
        "colab_type": "code",
        "colab": {},
        "outputId": "0a7e0c47-6765-4f04-b6fc-ee6233106160"
      },
      "cell_type": "code",
      "source": [
        "try:\n",
        "    import mysql.connector\n",
        "    mydb = mysql.connector.connect(\n",
        "        host = 'localhost',\n",
        "        user = 'root',\n",
        "        passwd = 'hr5739',\n",
        "        database = 'users'\n",
        "\n",
        "    )\n",
        "    mycursor = mydb.cursor()\n",
        "    sql = '''SELECT CUSTOMERS.ACCOUNT_NUMBER, CUSTOMERS.ID, CUSTOMERS.NAME, CUSTOMERS_RECORD.DATE,\n",
        "    CUSTOMERS_RECORD.CREDIT, CUSTOMERS_RECORD.DEBIT, CUSTOMERS.BALANCE\n",
        "    FROM CUSTOMERS\n",
        "    INNER JOIN\n",
        "    CUSTOMERS_RECORD \n",
        "    ON CUSTOMERS.ACCOUNT_NUMBER = CUSTOMERS_RECORD.ACCOUNT_NUMBER'''\n",
        "    mycursor.execute(sql)\n",
        "    for i in mycursor.fetchall():\n",
        "        print(i)\n",
        "except Exception as e:\n",
        "    print(f'{type(e).__name__}:--{e}')"
      ],
      "execution_count": 0,
      "outputs": [
        {
          "output_type": "stream",
          "text": [
            "(2222, 1, 'Noushad Khan', datetime.date(2018, 1, 1), Decimal('1000'), Decimal('3000'), 10000)\n",
            "(2222, 2, 'Noushad Khan', datetime.date(2018, 1, 1), Decimal('1000'), Decimal('3000'), 10000)\n"
          ],
          "name": "stdout"
        }
      ]
    },
    {
      "metadata": {
        "id": "_eW2a7gTnx0t",
        "colab_type": "text"
      },
      "cell_type": "markdown",
      "source": [
        "# LEFT JOIN"
      ]
    },
    {
      "metadata": {
        "id": "cKYABoMfnx0u",
        "colab_type": "code",
        "colab": {},
        "outputId": "832217f6-7ddc-4e2a-a81b-038ef8c9a36f"
      },
      "cell_type": "code",
      "source": [
        "try:\n",
        "    import mysql.connector\n",
        "    mydb = mysql.connector.connect(\n",
        "        host = 'localhost',\n",
        "        user = 'root',\n",
        "        passwd = 'hr5739',\n",
        "        database = 'users'\n",
        "\n",
        "    )\n",
        "    mycursor = mydb.cursor()\n",
        "    sql = '''SELECT CUSTOMERS.ACCOUNT_NUMBER, CUSTOMERS.ID, CUSTOMERS.NAME, CUSTOMERS_RECORD.DATE,\n",
        "    CUSTOMERS_RECORD.CREDIT, CUSTOMERS_RECORD.DEBIT, CUSTOMERS.BALANCE\n",
        "    FROM CUSTOMERS\n",
        "    LEFT JOIN\n",
        "    CUSTOMERS_RECORD \n",
        "    ON CUSTOMERS.ACCOUNT_NUMBER = CUSTOMERS_RECORD.ACCOUNT_NUMBER'''\n",
        "    mycursor.execute(sql)\n",
        "    for i in mycursor.fetchall():\n",
        "        print(i)\n",
        "except Exception as e:\n",
        "    print(f'{type(e).__name__}:--{e}')"
      ],
      "execution_count": 0,
      "outputs": [
        {
          "output_type": "stream",
          "text": [
            "(2222, 1, 'Noushad Khan', datetime.date(2018, 1, 1), Decimal('1000'), Decimal('3000'), 10000)\n",
            "(2222, 2, 'Noushad Khan', datetime.date(2018, 1, 1), Decimal('1000'), Decimal('3000'), 10000)\n",
            "(333, 3, 'a', None, None, None, 3000)\n",
            "(444, 4, 'aa', None, None, None, 20000)\n",
            "(222222, 5, 'fb', None, None, None, None)\n"
          ],
          "name": "stdout"
        }
      ]
    },
    {
      "metadata": {
        "id": "UkYfiozBnx0y",
        "colab_type": "text"
      },
      "cell_type": "markdown",
      "source": [
        "# RIGHT JOIN"
      ]
    },
    {
      "metadata": {
        "id": "toFIMoe3nx0z",
        "colab_type": "code",
        "colab": {},
        "outputId": "06a07ad4-dc5e-4417-b766-c208b6a7dfd7"
      },
      "cell_type": "code",
      "source": [
        "try:\n",
        "    import mysql.connector\n",
        "    mydb = mysql.connector.connect(\n",
        "        host = 'localhost',\n",
        "        user = 'root',\n",
        "        passwd = 'hr5739',\n",
        "        database = 'users'\n",
        "\n",
        "    )\n",
        "    mycursor = mydb.cursor()\n",
        "    sql = '''SELECT CUSTOMERS.ACCOUNT_NUMBER, CUSTOMERS.ID, CUSTOMERS.NAME, CUSTOMERS_RECORD.DATE,\n",
        "    CUSTOMERS_RECORD.CREDIT, CUSTOMERS_RECORD.DEBIT, CUSTOMERS.BALANCE\n",
        "    FROM CUSTOMERS\n",
        "    RIGHT JOIN\n",
        "    CUSTOMERS_RECORD \n",
        "    ON CUSTOMERS.ACCOUNT_NUMBER = CUSTOMERS_RECORD.ACCOUNT_NUMBER'''\n",
        "    mycursor.execute(sql)\n",
        "    for i in mycursor.fetchall():\n",
        "        print(i)\n",
        "except Exception as e:\n",
        "    print(f'{type(e).__name__}:--{e}')"
      ],
      "execution_count": 0,
      "outputs": [
        {
          "output_type": "stream",
          "text": [
            "(2222, 1, 'Noushad Khan', datetime.date(2018, 1, 1), Decimal('1000'), Decimal('3000'), 10000)\n",
            "(2222, 2, 'Noushad Khan', datetime.date(2018, 1, 1), Decimal('1000'), Decimal('3000'), 10000)\n"
          ],
          "name": "stdout"
        }
      ]
    },
    {
      "metadata": {
        "id": "5N6KTdQOnx02",
        "colab_type": "text"
      },
      "cell_type": "markdown",
      "source": [
        "# FULL JOIN"
      ]
    },
    {
      "metadata": {
        "scrolled": true,
        "id": "I6xWp_Wnnx03",
        "colab_type": "code",
        "colab": {},
        "outputId": "7c3be7ad-4a0f-40b5-9948-7c405270dd1a"
      },
      "cell_type": "code",
      "source": [
        "import getpass\n",
        "p = getpass.getpass()\n",
        "user = getpass.getpass()\n",
        "try:\n",
        "    import mysql.connector\n",
        "    mydb = mysql.connector.connect(\n",
        "        host = 'localhost',\n",
        "        user = user,\n",
        "        passwd = p,\n",
        "        database = 'users'\n",
        "\n",
        "    )\n",
        "    mycursor = mydb.cursor()\n",
        "    sql = '''SELECT *\n",
        "    FROM CUSTOMERS\n",
        "    FULL JOIN\n",
        "    CUSTOMERS_RECORD \n",
        "    '''\n",
        "    mycursor.execute(sql)\n",
        "    for i in mycursor.fetchall():\n",
        "        print(i)\n",
        "except Exception as e:\n",
        "    print(f'{type(e).__name__}:--{e}')"
      ],
      "execution_count": 0,
      "outputs": [
        {
          "output_type": "stream",
          "text": [
            "········\n",
            "········\n",
            "(2222, 'Noushad Khan', 'Noushadkhan1994@gmail.com', 'fdfdf', 'passowrd@1283434', 10000, 1, 1, datetime.date(2018, 1, 1), 2222, Decimal('1000'), Decimal('3000'))\n",
            "(2222, 'Noushad Khan', 'Noushadkhan1994@gmail.com', 'fdfdf', 'passowrd@1283434', 10000, 2, 1, datetime.date(2018, 1, 1), 2222, Decimal('1000'), Decimal('3000'))\n",
            "(333, 'a', 'b', 'c', 'd', 3000, 3, 1, datetime.date(2018, 1, 1), 2222, Decimal('1000'), Decimal('3000'))\n",
            "(444, 'aa', 'bb', 'cc', 'dd', 20000, 4, 1, datetime.date(2018, 1, 1), 2222, Decimal('1000'), Decimal('3000'))\n",
            "(222222, 'fb', 'fb@gmail.com', 'fdfdf', 'passowr', None, 5, 1, datetime.date(2018, 1, 1), 2222, Decimal('1000'), Decimal('3000'))\n"
          ],
          "name": "stdout"
        }
      ]
    },
    {
      "metadata": {
        "id": "kBFmr-_onx06",
        "colab_type": "code",
        "colab": {},
        "outputId": "38ff05eb-fa23-4905-ab8d-97d92e78df3d"
      },
      "cell_type": "code",
      "source": [
        "try:\n",
        "    import mysql.connector\n",
        "    mydb = mysql.connector.connect(\n",
        "        host = 'localhost',\n",
        "        user = 'root',\n",
        "        passwd = 'hr5739',\n",
        "        database = 'users'\n",
        "\n",
        "    )\n",
        "    mycursor = mydb.cursor()\n",
        "    sql = '''SELECT *\n",
        "       FROM CUSTOMERS\n",
        "       LEFT JOIN\n",
        "       CUSTOMERS_RECORD\n",
        "       ON CUSTOMERS.ID = CUSTOMERS_RECORD.RID\n",
        "    UNION ALL\n",
        "       SELECT *\n",
        "       FROM CUSTOMERS\n",
        "       RIGHT JOIN\n",
        "       CUSTOMERS_RECORD\n",
        "       ON CUSTOMERS.ID = CUSTOMERS_RECORD.RID\n",
        "\n",
        "    '''\n",
        "    mycursor.execute(sql)\n",
        "    for i in mycursor.fetchall():\n",
        "        print(i)\n",
        "except Exception as e:\n",
        "    print(f'{type(e).__name__}:-- {e}')"
      ],
      "execution_count": 0,
      "outputs": [
        {
          "output_type": "stream",
          "text": [
            "(2222, 'Noushad Khan', 'Noushadkhan1994@gmail.com', 'fdfdf', 'passowrd@1283434', 10000, 1, 1, datetime.date(2018, 1, 1), 2222, Decimal('1000'), Decimal('3000'))\n",
            "(2222, 'Noushad Khan', 'Noushadkhan1994@gmail.com', 'fdfdf', 'passowrd@1283434', 10000, 2, None, None, None, None, None)\n",
            "(333, 'a', 'b', 'c', 'd', 3000, 3, None, None, None, None, None)\n",
            "(444, 'aa', 'bb', 'cc', 'dd', 20000, 4, None, None, None, None, None)\n",
            "(222222, 'fb', 'fb@gmail.com', 'fdfdf', 'passowr', None, 5, None, None, None, None, None)\n",
            "(2222, 'Noushad Khan', 'Noushadkhan1994@gmail.com', 'fdfdf', 'passowrd@1283434', 10000, 1, 1, datetime.date(2018, 1, 1), 2222, Decimal('1000'), Decimal('3000'))\n"
          ],
          "name": "stdout"
        }
      ]
    },
    {
      "metadata": {
        "id": "qCxWru4nnx08",
        "colab_type": "text"
      },
      "cell_type": "markdown",
      "source": [
        "# BETWEEN\n",
        "The **BETWEEN** operator allows you to specify a range to test. You often use the **BETWEEN** Operator in the **WHERE** cluse of the **SELECT**, **UPDATE**, and **DELETE** statement."
      ]
    }
  ]
}